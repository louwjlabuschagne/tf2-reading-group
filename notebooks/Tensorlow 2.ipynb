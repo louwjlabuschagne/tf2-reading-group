{
 "cells": [
  {
   "cell_type": "markdown",
   "metadata": {
    "toc": true
   },
   "source": [
    "<h1>Table of Contents<span class=\"tocSkip\"></span></h1>\n",
    "<div class=\"toc\"><ul class=\"toc-item\"><li><span><a href=\"#Tensorflow---What-is-the-hype?\" data-toc-modified-id=\"Tensorflow---What-is-the-hype?-1\">Tensorflow - What is the hype?</a></span></li><li><span><a href=\"#Problems-with-Tensorflow-1.0\" data-toc-modified-id=\"Problems-with-Tensorflow-1.0-2\">Problems with Tensorflow 1.0</a></span><ul class=\"toc-item\"><li><span><a href=\"#Problem-#-1---Static-Computation-Graphs\" data-toc-modified-id=\"Problem-#-1---Static-Computation-Graphs-2.1\">Problem # 1 - Static Computation Graphs</a></span><ul class=\"toc-item\"><li><ul class=\"toc-item\"><li><span><a href=\"#Its-called-'DataFlow'\" data-toc-modified-id=\"Its-called-'DataFlow'-2.1.0.1\">Its called 'DataFlow'</a></span></li><li><span><a href=\"#Why-Use-DataFlow?\" data-toc-modified-id=\"Why-Use-DataFlow?-2.1.0.2\">Why Use DataFlow?</a></span></li><li><span><a href=\"#Tensorflow-1.0-Steps\" data-toc-modified-id=\"Tensorflow-1.0-Steps-2.1.0.3\">Tensorflow 1.0 Steps</a></span></li></ul></li></ul></li><li><span><a href=\"#Problem-#2---Verbosity-(high-learning-curve)\" data-toc-modified-id=\"Problem-#2---Verbosity-(high-learning-curve)-2.2\">Problem #2 - Verbosity (high learning curve)</a></span></li><li><span><a href=\"#Problem-#3---Messy-APIs\" data-toc-modified-id=\"Problem-#3---Messy-APIs-2.3\">Problem #3 - Messy APIs</a></span></li><li><span><a href=\"#Problem-#4---Hard-to-Debug\" data-toc-modified-id=\"Problem-#4---Hard-to-Debug-2.4\">Problem #4 - Hard to Debug</a></span></li></ul></li><li><span><a href=\"#Tensorflow-2.0-Features\" data-toc-modified-id=\"Tensorflow-2.0-Features-3\">Tensorflow 2.0 Features</a></span><ul class=\"toc-item\"><li><span><a href=\"#Keras\" data-toc-modified-id=\"Keras-3.1\">Keras</a></span></li><li><span><a href=\"#Feature-#1---Rapid-prototyping-(Eager-Execution-by-Default)\" data-toc-modified-id=\"Feature-#1---Rapid-prototyping-(Eager-Execution-by-Default)-3.2\">Feature #1 - Rapid prototyping (Eager Execution by Default)</a></span></li><li><span><a href=\"#Feature-#-2---Easier-Debugging-(Imperative-programming-style)\" data-toc-modified-id=\"Feature-#-2---Easier-Debugging-(Imperative-programming-style)-3.3\">Feature # 2 - Easier Debugging (Imperative programming style)</a></span></li><li><span><a href=\"#Feature-#3---Less-verbose-(tf.keras)\" data-toc-modified-id=\"Feature-#3---Less-verbose-(tf.keras)-3.4\">Feature #3 - Less verbose (tf.keras)</a></span></li><li><span><a href=\"#Feature-#4----More-granular-control-(Full-lower-level-API)\" data-toc-modified-id=\"Feature-#4----More-granular-control-(Full-lower-level-API)-3.5\">Feature #4 -  More granular control (Full lower level API)</a></span></li><li><span><a href=\"#Feature-#5---Backwards-compatible-with-Tensorflow-1.0\" data-toc-modified-id=\"Feature-#5---Backwards-compatible-with-Tensorflow-1.0-3.6\">Feature #5 - Backwards compatible with Tensorflow 1.0</a></span></li></ul></li><li><span><a href=\"#Iris-Example-Using-TF-2.0\" data-toc-modified-id=\"Iris-Example-Using-TF-2.0-4\">Iris Example Using TF 2.0</a></span><ul class=\"toc-item\"><li><span><a href=\"#Data-Wrangling\" data-toc-modified-id=\"Data-Wrangling-4.1\">Data Wrangling</a></span></li><li><span><a href=\"#Visualising-the-entire-dataset\" data-toc-modified-id=\"Visualising-the-entire-dataset-4.2\">Visualising the entire dataset</a></span></li><li><span><a href=\"#Test-Train-split\" data-toc-modified-id=\"Test-Train-split-4.3\">Test Train split</a></span></li><li><span><a href=\"#Building-a-model\" data-toc-modified-id=\"Building-a-model-4.4\">Building a model</a></span></li><li><span><a href=\"#Using-Tensorboard\" data-toc-modified-id=\"Using-Tensorboard-4.5\">Using Tensorboard</a></span></li><li><span><a href=\"#Making-Predictions\" data-toc-modified-id=\"Making-Predictions-4.6\">Making Predictions</a></span></li><li><span><a href=\"#Summary\" data-toc-modified-id=\"Summary-4.7\">Summary</a></span></li></ul></li><li><span><a href=\"#Going-Forward\" data-toc-modified-id=\"Going-Forward-5\">Going Forward</a></span><ul class=\"toc-item\"><li><span><a href=\"#TF2-vs-TF1+Keras\" data-toc-modified-id=\"TF2-vs-TF1+Keras-5.1\">TF2 vs TF1+Keras</a></span></li><li><span><a href=\"#Using-virtualenv-to-start-learning-TF2\" data-toc-modified-id=\"Using-virtualenv-to-start-learning-TF2-5.2\">Using virtualenv to start learning TF2</a></span></li><li><span><a href=\"#Final-Thoughts\" data-toc-modified-id=\"Final-Thoughts-5.3\">Final Thoughts</a></span></li></ul></li></ul></div>"
   ]
  },
  {
   "cell_type": "markdown",
   "metadata": {},
   "source": [
    "<img src='https://fiverr-res.cloudinary.com/images/t_main1,q_auto,f_auto/gigs/102081134/original/7492ce42c6b3c322eb54ea23aafde27f2e4e3bf4/work-on-tensorflow-nlp-and-keras.png'>"
   ]
  },
  {
   "cell_type": "markdown",
   "metadata": {},
   "source": [
    "# Tensorflow - What is the hype?\n"
   ]
  },
  {
   "cell_type": "markdown",
   "metadata": {},
   "source": [
    "Tensorflow provides an entire Ecosystem to sovle problems with ML\n",
    "\n",
    "\n",
    "+ TensorFlow is a **free** and **open-source** software library for dataflow and differentiable programming across a range of tasks. \n",
    "+ It is a **symbolic math library**, and is *also* used for machine learning applications such as neural networks.\n",
    "+ Its flexible architecture allows for the easy deployment of computation across a variety of platforms (CPUs, GPUs, TPUs), and from desktops to clusters of servers to mobile and edge devices.\n",
    "+ It is used for **both** research and production at Google\n",
    "+ TensorFlow was developed by the Google Brain team for internal Google use. \n",
    "+ TensorFlow was released under the Apache 2.0 open-source license on **November 9, 2015**\n",
    "+ **Version 1.0.0** was released on **February 11, 2017**.\n",
    "+ TensorFlow computations are expressed as **stateful dataflow graphs**.\n",
    "+ The name TensorFlow derives from the operations that such neural networks perform on multidimensional data arrays, which are referred to as tensors."
   ]
  },
  {
   "cell_type": "markdown",
   "metadata": {},
   "source": [
    "# Problems with Tensorflow 1.0"
   ]
  },
  {
   "cell_type": "markdown",
   "metadata": {},
   "source": [
    "## Problem # 1 - Static Computation Graphs"
   ]
  },
  {
   "cell_type": "markdown",
   "metadata": {},
   "source": [
    "#### Its called 'DataFlow'"
   ]
  },
  {
   "cell_type": "markdown",
   "metadata": {},
   "source": [
    "![alt text](https://www.researchgate.net/profile/Margaret_Burnett/publication/220391588/figure/fig2/AS:670720233308170@1536923573575/Dataflow-programming-in-Prograph-Here-the-programmer-is-using-the-low-level-primitive.png\n",
    ")\n",
    "- Its modeled after a common programming paradigm called Dataflow\n",
    "- In a dataflow graph, the nodes represent units of computation, and the edges represent the data consumed or produced by a computation.\n",
    "- For example, in a TensorFlow graph, the tf.matmul operation would correspond to a single node with two incoming edges (the matrices to be multiplied) and one outgoing edge (the result of the multiplication)."
   ]
  },
  {
   "cell_type": "markdown",
   "metadata": {},
   "source": [
    "#### Why Use DataFlow?"
   ]
  },
  {
   "cell_type": "markdown",
   "metadata": {},
   "source": [
    "1. Parallelism - easier to execute operations in parallel\n",
    "2. Distributed Execution - easier to partition the graph\n",
    "3. Compilation - XLA Compiler generates faster code using a graph structure\n",
    "4. Portability - Language independnet graph. "
   ]
  },
  {
   "cell_type": "markdown",
   "metadata": {},
   "source": [
    "#### Tensorflow 1.0 Steps"
   ]
  },
  {
   "cell_type": "markdown",
   "metadata": {},
   "source": [
    "1. Import the data, normalize it, or create data input pipeline.\n",
    "2. Define an algorithm — Define variables, structure of the algo, loss function, optimization technique, etc. Tensorflow creates static computational graphs for this.\n",
    "3. Feed the data through this computation graph, compute loss from loss function and and update the weights (variables) by backpropagating the error.\n",
    "4. Stop when you reach some stopping criteria.\n",
    "\n",
    "![alt text](https://cdn-images-1.medium.com/max/1600/0*uvXAUUtje1B01o_s.png)"
   ]
  },
  {
   "cell_type": "markdown",
   "metadata": {},
   "source": [
    "## Problem #2 - Verbosity (high learning curve)"
   ]
  },
  {
   "cell_type": "markdown",
   "metadata": {},
   "source": [
    "- Variables\n",
    "- placeholders\n",
    "- servables\n",
    "- tensorboard\n",
    "- sessions\n",
    "- computation graphs\n",
    "- hyperparameter values\n",
    "- formatting conventions,\n",
    "- **SO MUCH TO LEARN**\n",
    "- And we haven't even begun to talk about machine learning theory"
   ]
  },
  {
   "cell_type": "code",
   "execution_count": null,
   "metadata": {
    "ExecuteTime": {
     "end_time": "2019-04-26T08:51:40.710671Z",
     "start_time": "2019-04-26T08:51:40.564836Z"
    }
   },
   "outputs": [],
   "source": [
    "# An example of verbosity in tf1\n",
    "# Randomly taken from https://github.com/carpedm20/DCGAN-tensorflow/blob/master/model.py\n",
    "\n",
    "def sigmoid_cross_entropy_with_logits(x, y):\n",
    "    try:\n",
    "        return tf.nn.sigmoid_cross_entropy_with_logits(logits=x, labels=y)\n",
    "    except:\n",
    "        return tf.nn.sigmoid_cross_entropy_with_logits(logits=x, targets=y)\n",
    "\n",
    "    self.d_loss_real = tf.reduce_mean(\n",
    "        sigmoid_cross_entropy_with_logits(self.D_logits, tf.ones_like(self.D)))\n",
    "    self.d_loss_fake = tf.reduce_mean(\n",
    "        sigmoid_cross_entropy_with_logits(self.D_logits_, tf.zeros_like(self.D_)))\n",
    "    self.g_loss = tf.reduce_mean(\n",
    "        sigmoid_cross_entropy_with_logits(self.D_logits_, tf.ones_like(self.D_)))\n",
    "\n",
    "    self.d_loss_real_sum = scalar_summary(\"d_loss_real\", self.d_loss_real)\n",
    "    self.d_loss_fake_sum = scalar_summary(\"d_loss_fake\", self.d_loss_fake)\n",
    "\n",
    "    self.d_loss = self.d_loss_real + self.d_loss_fake\n",
    "\n",
    "    self.g_loss_sum = scalar_summary(\"g_loss\", self.g_loss)\n",
    "    self.d_loss_sum = scalar_summary(\"d_loss\", self.d_loss)\n",
    "\n",
    "    t_vars = tf.trainable_variables()\n",
    "\n",
    "    self.d_vars = [var for var in t_vars if 'd_' in var.name]\n",
    "    self.g_vars = [var for var in t_vars if 'g_' in var.name]\n",
    "\n",
    "self.saver = tf.train.Saver()\n",
    "\n",
    "def train(self, config):\n",
    "    d_optim = tf.train.AdamOptimizer(config.learning_rate, beta1=config.beta1) \\\n",
    "        .minimize(self.d_loss, var_list=self.d_vars)\n",
    "    g_optim = tf.train.AdamOptimizer(config.learning_rate, beta1=config.beta1) \\\n",
    "        .minimize(self.g_loss, var_list=self.g_vars)\n",
    "    try:\n",
    "        tf.global_variables_initializer().run()\n",
    "    except:\n",
    "        tf.initialize_all_variables().run()\n",
    "\n",
    "    self.g_sum = merge_summary([self.z_sum, self.d__sum,\n",
    "                                self.G_sum, self.d_loss_fake_sum, self.g_loss_sum])\n",
    "    self.d_sum = merge_summary(\n",
    "        [self.z_sum, self.d_sum, self.d_loss_real_sum, self.d_loss_sum])\n",
    "    self.writer = SummaryWriter(\"./logs\", self.sess.graph)\n"
   ]
  },
  {
   "cell_type": "markdown",
   "metadata": {},
   "source": [
    "## Problem #3 - Messy APIs"
   ]
  },
  {
   "cell_type": "markdown",
   "metadata": {},
   "source": [
    "- So many new packages being added\n",
    "- Lots of deprecated APIs\n",
    "- Lots of renaming of existing APIs \n",
    "\n",
    "![alt text](https://i.imgur.com/4VTU9RB.png)\n",
    "\n",
    "![alt text](https://i.imgflip.com/2xvf09.jpg)"
   ]
  },
  {
   "cell_type": "markdown",
   "metadata": {},
   "source": [
    "## Problem #4 - Hard to Debug \n"
   ]
  },
  {
   "cell_type": "markdown",
   "metadata": {},
   "source": [
    "<img src='img/tf_mid_problem_z.png'>"
   ]
  },
  {
   "cell_type": "markdown",
   "metadata": {},
   "source": [
    "# Tensorflow 2.0 Features"
   ]
  },
  {
   "cell_type": "markdown",
   "metadata": {},
   "source": [
    "+ **Version 2.0** Release Candidate in 2019 August-ish (they said Spring), alpha out since March, and pretty stable for our use cases\n",
    "+ Keras as high level API\n",
    "+ Eager execution by default"
   ]
  },
  {
   "cell_type": "markdown",
   "metadata": {},
   "source": [
    "## Keras"
   ]
  },
  {
   "cell_type": "markdown",
   "metadata": {},
   "source": [
    "\n",
    "+ Many common routines and pipelines in a ML pipeline, high level APIs ease the reproducability of this\n",
    "+ A few years ago Tensorflow adopted Keras as one of the high level APIs tensorflow supports\n",
    "+ Keras is a high-level neural networks API, written in Python and capable of running on top of `TensorFlow`, `CNTK`, or `Theano`. \n",
    "+ Keras was developed with a focus on enabling fast experimentation. \n",
    "+ Being able to go from idea to result with the least possible delay is key to doing good research.\n",
    "+ Gives specification for model building\n",
    "+ Defines a standard way to define layers, models, optimizers and losses\n",
    "+ `tf.keras` in tensorlow since TF 1.13, but now much better integrated in TF 2.0\n",
    "+ using tf.keras is much more Pythonic than using Sessions as in TF 1."
   ]
  },
  {
   "cell_type": "markdown",
   "metadata": {},
   "source": [
    "## Feature #1 - Rapid prototyping (Eager Execution by Default)"
   ]
  },
  {
   "cell_type": "markdown",
   "metadata": {},
   "source": [
    "- Eager execution is an imperative programming paradigm that evaluates operations immediately, without building graphs!\n",
    "- Operations return concrete values instead of constructing a computational graph to run later.\n",
    "- This makes it easy to get started with TensorFlow and debug models, and it reduces boilerplate as well. \n",
    "- This allows for an intuitive interface—Structure your code naturally and use Python data structures. Quickly iterate on small models and small data.\n",
    "- No sessions or placeholders, instead pass data into functions as an argument\n",
    "\n",
    "![alt text](https://i.imgur.com/YUlhihi.png)\n"
   ]
  },
  {
   "cell_type": "code",
   "execution_count": 1,
   "metadata": {
    "ExecuteTime": {
     "end_time": "2019-04-26T09:11:57.384647Z",
     "start_time": "2019-04-26T09:11:53.586187Z"
    }
   },
   "outputs": [
    {
     "name": "stdout",
     "output_type": "stream",
     "text": [
      "2.0.0-alpha0\n"
     ]
    }
   ],
   "source": [
    "import tensorflow as tf\n",
    "print(tf.__version__)"
   ]
  },
  {
   "cell_type": "code",
   "execution_count": 2,
   "metadata": {
    "ExecuteTime": {
     "end_time": "2019-04-26T09:12:00.600081Z",
     "start_time": "2019-04-26T09:12:00.558317Z"
    }
   },
   "outputs": [
    {
     "name": "stdout",
     "output_type": "stream",
     "text": [
      "tf.Tensor(3, shape=(), dtype=int32)\n",
      "tf.Tensor([4 6], shape=(2,), dtype=int32)\n",
      "tf.Tensor(25, shape=(), dtype=int32)\n",
      "tf.Tensor(6, shape=(), dtype=int32)\n",
      "tf.Tensor(13, shape=(), dtype=int32)\n"
     ]
    }
   ],
   "source": [
    "print(tf.add(1, 2))\n",
    "print(tf.add([1, 2], [3, 4]))\n",
    "print(tf.square(5))\n",
    "print(tf.reduce_sum([1, 2, 3]))\n",
    "\n",
    "# Operator overloading is also supported\n",
    "print(tf.square(2) + tf.square(3))"
   ]
  },
  {
   "cell_type": "markdown",
   "metadata": {},
   "source": [
    "<div style='font-size:20pt'>Versus TF 1</div>\n",
    "<br>\n",
    "<img src='img/tf1_simple_math.png'>"
   ]
  },
  {
   "cell_type": "markdown",
   "metadata": {},
   "source": [
    "## Feature # 2 - Easier Debugging (Imperative programming style)"
   ]
  },
  {
   "cell_type": "markdown",
   "metadata": {},
   "source": [
    "- Call ops directly to inspect running models and test changes\n",
    "- Use standard Python debugging tools for immediate error reporting.\n",
    "- Can debug with print(), now if your shapes of tensors don't align, you can test and see why not"
   ]
  },
  {
   "cell_type": "code",
   "execution_count": 3,
   "metadata": {
    "ExecuteTime": {
     "end_time": "2019-04-26T09:12:38.604381Z",
     "start_time": "2019-04-26T09:12:38.593739Z"
    }
   },
   "outputs": [
    {
     "name": "stdout",
     "output_type": "stream",
     "text": [
      "tf.Tensor([[4.]], shape=(1, 1), dtype=float32)\n",
      "tf.Tensor([[16.]], shape=(1, 1), dtype=float32)\n"
     ]
    }
   ],
   "source": [
    "x = [[2.]]\n",
    "m = tf.matmul(x, x)\n",
    "print(m)\n",
    "z = tf.matmul(m, m)\n",
    "print(z)"
   ]
  },
  {
   "cell_type": "markdown",
   "metadata": {},
   "source": [
    "## Feature #3 - Less verbose (tf.keras)"
   ]
  },
  {
   "cell_type": "markdown",
   "metadata": {},
   "source": [
    "- tf.keras is now the official high level API\n",
    "- Distributed training is simple (1 line of code to enable)\n",
    "- Deprecated APIs have been removed"
   ]
  },
  {
   "cell_type": "code",
   "execution_count": null,
   "metadata": {
    "ExecuteTime": {
     "end_time": "2019-04-26T08:51:44.103614Z",
     "start_time": "2019-04-26T08:51:43.688263Z"
    }
   },
   "outputs": [],
   "source": [
    "#don't run this\n",
    "from tensorflow.keras.models import Sequential\n",
    "from tensorflow.keras.layers import Flatten, Dense, Dropout\n",
    "\n",
    "model = Sequential([\n",
    "    Flatten(),\n",
    "    Dense(10, activation='relu'),\n",
    "    Dropout(0.2),\n",
    "    Dense(3, activation='softmax')\n",
    "])\n",
    "\n",
    "model.compile(optimizer='adam',\n",
    "             loss='sparse_categorical_crossentropy',\n",
    "             metrics=['accuracy', 'categorical_accuracy'])\n",
    "\n",
    "model.fit(X_train,\n",
    "          y_train, \n",
    "          epochs=2, \n",
    "          batch_size=10)\n",
    "\n",
    "model.predict(X_test)"
   ]
  },
  {
   "cell_type": "markdown",
   "metadata": {},
   "source": [
    "## Feature #4 -  More granular control (Full lower level API)"
   ]
  },
  {
   "cell_type": "markdown",
   "metadata": {},
   "source": [
    "- New flexibilities: full low-level API, internal operations are accessible now (tf.raw_ops), and inheritable interfaces for variables, checkpoints, and layers\n",
    "\n",
    "![alt text](https://cdn-images-1.medium.com/max/1600/0*fJ5u2WE51Oz44dr_)"
   ]
  },
  {
   "cell_type": "markdown",
   "metadata": {},
   "source": [
    "## Feature #5 - Backwards compatible with Tensorflow 1.0 "
   ]
  },
  {
   "cell_type": "markdown",
   "metadata": {},
   "source": [
    "- A simple script converts TF 1.0 code to TF 2.0 code \n",
    "- But we don't really need this, as all of us will just start with TF2.0 right of the bat."
   ]
  },
  {
   "cell_type": "code",
   "execution_count": 4,
   "metadata": {
    "ExecuteTime": {
     "end_time": "2019-04-26T09:16:14.536065Z",
     "start_time": "2019-04-26T09:16:11.831657Z"
    }
   },
   "outputs": [
    {
     "name": "stdout",
     "output_type": "stream",
     "text": [
      "usage: tf_upgrade_v2 [-h] [--infile INPUT_FILE] [--outfile OUTPUT_FILE]\r\n",
      "                     [--intree INPUT_TREE] [--outtree OUTPUT_TREE]\r\n",
      "                     [--copyotherfiles COPY_OTHER_FILES] [--inplace]\r\n",
      "                     [--reportfile REPORT_FILENAME]\r\n",
      "\r\n",
      "Convert a TensorFlow Python file from 1.x to 2.0\r\n",
      "\r\n",
      "Simple usage:\r\n",
      "  tf_upgrade_v2.py --infile foo.py --outfile bar.py\r\n",
      "  tf_upgrade_v2.py --infile foo.ipynb --outfile bar.ipynb\r\n",
      "  tf_upgrade_v2.py --intree ~/code/old --outtree ~/code/new\r\n",
      "\r\n",
      "optional arguments:\r\n",
      "  -h, --help            show this help message and exit\r\n",
      "  --infile INPUT_FILE   If converting a single file, the name of the file to\r\n",
      "                        convert\r\n",
      "  --outfile OUTPUT_FILE\r\n",
      "                        If converting a single file, the output filename.\r\n",
      "  --intree INPUT_TREE   If converting a whole tree of files, the directory to\r\n",
      "                        read from (relative or absolute).\r\n",
      "  --outtree OUTPUT_TREE\r\n",
      "                        If converting a whole tree of files, the output\r\n",
      "                        directory (relative or absolute).\r\n",
      "  --copyotherfiles COPY_OTHER_FILES\r\n",
      "                        If converting a whole tree of files, whether to copy\r\n",
      "                        the other files.\r\n",
      "  --inplace             If converting a set of files, whether to allow the\r\n",
      "                        conversion to be performed on the input files.\r\n",
      "  --reportfile REPORT_FILENAME\r\n",
      "                        The name of the file where the report log is\r\n",
      "                        stored.(default: report.txt)\r\n"
     ]
    }
   ],
   "source": [
    "!tf_upgrade_v2 -h"
   ]
  },
  {
   "cell_type": "markdown",
   "metadata": {},
   "source": [
    "# Iris Example Using TF 2.0"
   ]
  },
  {
   "cell_type": "markdown",
   "metadata": {},
   "source": [
    "## Data Wrangling"
   ]
  },
  {
   "cell_type": "code",
   "execution_count": 5,
   "metadata": {
    "ExecuteTime": {
     "end_time": "2019-04-26T09:16:56.179833Z",
     "start_time": "2019-04-26T09:16:55.301103Z"
    },
    "scrolled": true
   },
   "outputs": [
    {
     "name": "stdout",
     "output_type": "stream",
     "text": [
      "iris.shape: (150, 6)\n"
     ]
    },
    {
     "data": {
      "text/html": [
       "<div>\n",
       "<style scoped>\n",
       "    .dataframe tbody tr th:only-of-type {\n",
       "        vertical-align: middle;\n",
       "    }\n",
       "\n",
       "    .dataframe tbody tr th {\n",
       "        vertical-align: top;\n",
       "    }\n",
       "\n",
       "    .dataframe thead th {\n",
       "        text-align: right;\n",
       "    }\n",
       "</style>\n",
       "<table border=\"1\" class=\"dataframe\">\n",
       "  <thead>\n",
       "    <tr style=\"text-align: right;\">\n",
       "      <th></th>\n",
       "      <th>SEPAL_LENGTH_CM</th>\n",
       "      <th>SEPAL_WIDTH_CM</th>\n",
       "      <th>PETAL_LENGTH_CM</th>\n",
       "      <th>PETAL_WIDTH_CM</th>\n",
       "      <th>SPECIES</th>\n",
       "      <th>SPECIES_NAME</th>\n",
       "    </tr>\n",
       "  </thead>\n",
       "  <tbody>\n",
       "    <tr>\n",
       "      <th>0</th>\n",
       "      <td>5.1</td>\n",
       "      <td>3.5</td>\n",
       "      <td>1.4</td>\n",
       "      <td>0.2</td>\n",
       "      <td>0.0</td>\n",
       "      <td>setosa</td>\n",
       "    </tr>\n",
       "    <tr>\n",
       "      <th>1</th>\n",
       "      <td>4.9</td>\n",
       "      <td>3.0</td>\n",
       "      <td>1.4</td>\n",
       "      <td>0.2</td>\n",
       "      <td>0.0</td>\n",
       "      <td>setosa</td>\n",
       "    </tr>\n",
       "    <tr>\n",
       "      <th>2</th>\n",
       "      <td>4.7</td>\n",
       "      <td>3.2</td>\n",
       "      <td>1.3</td>\n",
       "      <td>0.2</td>\n",
       "      <td>0.0</td>\n",
       "      <td>setosa</td>\n",
       "    </tr>\n",
       "    <tr>\n",
       "      <th>3</th>\n",
       "      <td>4.6</td>\n",
       "      <td>3.1</td>\n",
       "      <td>1.5</td>\n",
       "      <td>0.2</td>\n",
       "      <td>0.0</td>\n",
       "      <td>setosa</td>\n",
       "    </tr>\n",
       "    <tr>\n",
       "      <th>4</th>\n",
       "      <td>5.0</td>\n",
       "      <td>3.6</td>\n",
       "      <td>1.4</td>\n",
       "      <td>0.2</td>\n",
       "      <td>0.0</td>\n",
       "      <td>setosa</td>\n",
       "    </tr>\n",
       "  </tbody>\n",
       "</table>\n",
       "</div>"
      ],
      "text/plain": [
       "   SEPAL_LENGTH_CM  SEPAL_WIDTH_CM  PETAL_LENGTH_CM  PETAL_WIDTH_CM  SPECIES  \\\n",
       "0              5.1             3.5              1.4             0.2      0.0   \n",
       "1              4.9             3.0              1.4             0.2      0.0   \n",
       "2              4.7             3.2              1.3             0.2      0.0   \n",
       "3              4.6             3.1              1.5             0.2      0.0   \n",
       "4              5.0             3.6              1.4             0.2      0.0   \n",
       "\n",
       "  SPECIES_NAME  \n",
       "0       setosa  \n",
       "1       setosa  \n",
       "2       setosa  \n",
       "3       setosa  \n",
       "4       setosa  "
      ]
     },
     "execution_count": 5,
     "metadata": {},
     "output_type": "execute_result"
    }
   ],
   "source": [
    "import seaborn as sns\n",
    "import matplotlib.pyplot as plt\n",
    "import pandas as pd\n",
    "import numpy as np\n",
    "\n",
    "from time import gmtime, strftime\n",
    "\n",
    "from sklearn import datasets\n",
    "from sklearn.model_selection import train_test_split\n",
    "\n",
    "iris_dataset = datasets.load_iris()\n",
    "species_lookup = {k:v for k, v in enumerate(iris_dataset.target_names)}\n",
    "iris = pd.DataFrame(np.concatenate((iris_dataset.data, \n",
    "                                    iris_dataset.target.reshape(-1,1)), \n",
    "                                   axis=1), \n",
    "                    columns=iris_dataset.feature_names+['SPECIES'])\n",
    "iris.columns = [s.\\\n",
    " replace('(','').\\\n",
    " replace(')','').\\\n",
    " replace(' ', '_').\\\n",
    " upper() for s in iris.columns]\n",
    "\n",
    "iris['SPECIES_NAME'] = iris.SPECIES.apply(lambda x: species_lookup[x])\n",
    "print('iris.shape: %s'%str(iris.shape))\n",
    "iris.head()"
   ]
  },
  {
   "cell_type": "markdown",
   "metadata": {},
   "source": [
    "## Visualising the entire dataset"
   ]
  },
  {
   "cell_type": "markdown",
   "metadata": {},
   "source": [
    "Below we look at all 150 observations in the Iris dataset."
   ]
  },
  {
   "cell_type": "code",
   "execution_count": 6,
   "metadata": {
    "ExecuteTime": {
     "end_time": "2019-04-26T09:17:02.393491Z",
     "start_time": "2019-04-26T09:17:02.000249Z"
    }
   },
   "outputs": [
    {
     "data": {
      "image/png": "[encoded data removed]",
      "text/plain": [
       "<Figure size 504x504 with 1 Axes>"
      ]
     },
     "metadata": {
      "needs_background": "light"
     },
     "output_type": "display_data"
    }
   ],
   "source": [
    "plt.figure(figsize=(7,7))\n",
    "sns.scatterplot(data=iris, \n",
    "               x='SEPAL_LENGTH_CM',\n",
    "               y='SEPAL_WIDTH_CM',\n",
    "               hue='SPECIES_NAME');"
   ]
  },
  {
   "cell_type": "markdown",
   "metadata": {},
   "source": [
    "## Test Train split"
   ]
  },
  {
   "cell_type": "markdown",
   "metadata": {},
   "source": [
    "Next we split our data into a test and a training set. To do this however we require our columns as numpy arrays and not a DataFrame - we can easily get this using the `values` method."
   ]
  },
  {
   "cell_type": "code",
   "execution_count": 7,
   "metadata": {
    "ExecuteTime": {
     "end_time": "2019-04-26T09:17:08.086068Z",
     "start_time": "2019-04-26T09:17:08.079011Z"
    }
   },
   "outputs": [],
   "source": [
    "X = iris[['SEPAL_LENGTH_CM',\n",
    "          'SEPAL_WIDTH_CM',\n",
    "          'PETAL_LENGTH_CM',\n",
    "          'PETAL_WIDTH_CM']].values \n",
    "y = iris.SPECIES.values"
   ]
  },
  {
   "cell_type": "code",
   "execution_count": 8,
   "metadata": {
    "ExecuteTime": {
     "end_time": "2019-04-26T09:17:08.597415Z",
     "start_time": "2019-04-26T09:17:08.578848Z"
    }
   },
   "outputs": [
    {
     "name": "stdout",
     "output_type": "stream",
     "text": [
      "[[5.1 3.5 1.4 0.2]\n",
      " [4.9 3.  1.4 0.2]\n",
      " [4.7 3.2 1.3 0.2]\n",
      " [4.6 3.1 1.5 0.2]]\n",
      "[0. 0. 0. 0.]\n"
     ]
    },
    {
     "data": {
      "text/html": [
       "<div>\n",
       "<style scoped>\n",
       "    .dataframe tbody tr th:only-of-type {\n",
       "        vertical-align: middle;\n",
       "    }\n",
       "\n",
       "    .dataframe tbody tr th {\n",
       "        vertical-align: top;\n",
       "    }\n",
       "\n",
       "    .dataframe thead th {\n",
       "        text-align: right;\n",
       "    }\n",
       "</style>\n",
       "<table border=\"1\" class=\"dataframe\">\n",
       "  <thead>\n",
       "    <tr style=\"text-align: right;\">\n",
       "      <th></th>\n",
       "      <th>SEPAL_LENGTH_CM</th>\n",
       "      <th>SEPAL_WIDTH_CM</th>\n",
       "      <th>PETAL_LENGTH_CM</th>\n",
       "      <th>PETAL_WIDTH_CM</th>\n",
       "      <th>SPECIES</th>\n",
       "      <th>SPECIES_NAME</th>\n",
       "    </tr>\n",
       "  </thead>\n",
       "  <tbody>\n",
       "    <tr>\n",
       "      <th>0</th>\n",
       "      <td>5.1</td>\n",
       "      <td>3.5</td>\n",
       "      <td>1.4</td>\n",
       "      <td>0.2</td>\n",
       "      <td>0.0</td>\n",
       "      <td>setosa</td>\n",
       "    </tr>\n",
       "    <tr>\n",
       "      <th>1</th>\n",
       "      <td>4.9</td>\n",
       "      <td>3.0</td>\n",
       "      <td>1.4</td>\n",
       "      <td>0.2</td>\n",
       "      <td>0.0</td>\n",
       "      <td>setosa</td>\n",
       "    </tr>\n",
       "    <tr>\n",
       "      <th>2</th>\n",
       "      <td>4.7</td>\n",
       "      <td>3.2</td>\n",
       "      <td>1.3</td>\n",
       "      <td>0.2</td>\n",
       "      <td>0.0</td>\n",
       "      <td>setosa</td>\n",
       "    </tr>\n",
       "    <tr>\n",
       "      <th>3</th>\n",
       "      <td>4.6</td>\n",
       "      <td>3.1</td>\n",
       "      <td>1.5</td>\n",
       "      <td>0.2</td>\n",
       "      <td>0.0</td>\n",
       "      <td>setosa</td>\n",
       "    </tr>\n",
       "  </tbody>\n",
       "</table>\n",
       "</div>"
      ],
      "text/plain": [
       "   SEPAL_LENGTH_CM  SEPAL_WIDTH_CM  PETAL_LENGTH_CM  PETAL_WIDTH_CM  SPECIES  \\\n",
       "0              5.1             3.5              1.4             0.2      0.0   \n",
       "1              4.9             3.0              1.4             0.2      0.0   \n",
       "2              4.7             3.2              1.3             0.2      0.0   \n",
       "3              4.6             3.1              1.5             0.2      0.0   \n",
       "\n",
       "  SPECIES_NAME  \n",
       "0       setosa  \n",
       "1       setosa  \n",
       "2       setosa  \n",
       "3       setosa  "
      ]
     },
     "execution_count": 8,
     "metadata": {},
     "output_type": "execute_result"
    }
   ],
   "source": [
    "print(X[0:4,:])\n",
    "print(y[0:4])\n",
    "iris[0:4]"
   ]
  },
  {
   "cell_type": "markdown",
   "metadata": {},
   "source": [
    "We make a 20% test train split using the , and we use the stratify option in the `sklearn.model_selection import train_test_split` function. This ensure we get a representative testing and training set based on on flowers.  "
   ]
  },
  {
   "cell_type": "code",
   "execution_count": 9,
   "metadata": {
    "ExecuteTime": {
     "end_time": "2019-04-26T09:17:13.970946Z",
     "start_time": "2019-04-26T09:17:13.958696Z"
    }
   },
   "outputs": [],
   "source": [
    " X_train, X_test, y_train, y_test = train_test_split(X, \n",
    "                                                     y, \n",
    "                                                     test_size=0.2, \n",
    "                                                     random_state=42, \n",
    "                                                     stratify=y)"
   ]
  },
  {
   "cell_type": "code",
   "execution_count": 10,
   "metadata": {
    "ExecuteTime": {
     "end_time": "2019-04-26T09:17:14.741146Z",
     "start_time": "2019-04-26T09:17:14.450280Z"
    }
   },
   "outputs": [
    {
     "data": {
      "image/png": "[encoded data removed]",
      "text/plain": [
       "<Figure size 504x504 with 1 Axes>"
      ]
     },
     "metadata": {
      "needs_background": "light"
     },
     "output_type": "display_data"
    }
   ],
   "source": [
    "SEPAL_LENGTH_CM_train = X_train[:,0]\n",
    "SEPAL_LENGTH_CM_test = X_test[:,0]\n",
    "SEPAL_WIDTH_CM_train = X_train[:,1]\n",
    "SEPAL_WIDTH_CM_test = X_test[:,1]\n",
    "\n",
    "plt.figure(figsize=(7,7))\n",
    "plt.scatter(x=SEPAL_LENGTH_CM_train,\n",
    "            y=SEPAL_WIDTH_CM_train,\n",
    "            c=y_train,\n",
    "            cmap='flag',\n",
    "            marker='x',\n",
    "            label='Training')\n",
    "plt.scatter(x=SEPAL_LENGTH_CM_test,\n",
    "            y=SEPAL_WIDTH_CM_test,\n",
    "            c=y_test,\n",
    "            cmap='flag',\n",
    "            marker='o',\n",
    "            label='Testing')\n",
    "plt.legend();"
   ]
  },
  {
   "cell_type": "markdown",
   "metadata": {},
   "source": [
    "We can see that the species are equally split in the test and training set."
   ]
  },
  {
   "cell_type": "markdown",
   "metadata": {},
   "source": [
    "## Building a model"
   ]
  },
  {
   "cell_type": "code",
   "execution_count": 11,
   "metadata": {
    "ExecuteTime": {
     "end_time": "2019-04-26T09:17:41.463813Z",
     "start_time": "2019-04-26T09:17:41.458553Z"
    }
   },
   "outputs": [],
   "source": [
    "from tensorflow.keras.callbacks import TensorBoard"
   ]
  },
  {
   "cell_type": "code",
   "execution_count": 12,
   "metadata": {
    "ExecuteTime": {
     "end_time": "2019-04-26T09:17:56.687466Z",
     "start_time": "2019-04-26T09:17:54.837326Z"
    },
    "scrolled": true
   },
   "outputs": [
    {
     "name": "stdout",
     "output_type": "stream",
     "text": [
      "Epoch 1/50\n",
      "120/120 [==============================] - 0s 2ms/sample - loss: 1.2192 - accuracy: 0.3333 - categorical_accuracy: 0.9583\n",
      "Epoch 2/50\n",
      "120/120 [==============================] - 0s 167us/sample - loss: 1.1176 - accuracy: 0.3500 - categorical_accuracy: 0.9333\n",
      "Epoch 3/50\n",
      "120/120 [==============================] - 0s 168us/sample - loss: 1.0599 - accuracy: 0.3917 - categorical_accuracy: 0.9167\n",
      "Epoch 4/50\n",
      "120/120 [==============================] - 0s 152us/sample - loss: 1.0090 - accuracy: 0.3917 - categorical_accuracy: 0.9083\n",
      "Epoch 5/50\n",
      "120/120 [==============================] - 0s 163us/sample - loss: 0.9295 - accuracy: 0.4083 - categorical_accuracy: 0.8667\n",
      "Epoch 6/50\n",
      "120/120 [==============================] - 0s 156us/sample - loss: 0.9069 - accuracy: 0.4833 - categorical_accuracy: 0.7583\n",
      "Epoch 7/50\n",
      "120/120 [==============================] - 0s 163us/sample - loss: 0.9184 - accuracy: 0.4833 - categorical_accuracy: 0.6750\n",
      "Epoch 8/50\n",
      "120/120 [==============================] - 0s 194us/sample - loss: 0.8653 - accuracy: 0.5667 - categorical_accuracy: 0.5917\n",
      "Epoch 9/50\n",
      "120/120 [==============================] - 0s 167us/sample - loss: 0.8401 - accuracy: 0.6583 - categorical_accuracy: 0.5250\n",
      "Epoch 10/50\n",
      "120/120 [==============================] - 0s 172us/sample - loss: 0.8556 - accuracy: 0.6250 - categorical_accuracy: 0.4583\n",
      "Epoch 11/50\n",
      "120/120 [==============================] - 0s 136us/sample - loss: 0.8062 - accuracy: 0.6667 - categorical_accuracy: 0.4250\n",
      "Epoch 12/50\n",
      "120/120 [==============================] - 0s 139us/sample - loss: 0.7845 - accuracy: 0.6417 - categorical_accuracy: 0.3667\n",
      "Epoch 13/50\n",
      "120/120 [==============================] - 0s 132us/sample - loss: 0.8083 - accuracy: 0.6500 - categorical_accuracy: 0.3667\n",
      "Epoch 14/50\n",
      "120/120 [==============================] - 0s 129us/sample - loss: 0.7868 - accuracy: 0.6583 - categorical_accuracy: 0.3417\n",
      "Epoch 15/50\n",
      "120/120 [==============================] - 0s 129us/sample - loss: 0.7359 - accuracy: 0.6917 - categorical_accuracy: 0.3667\n",
      "Epoch 16/50\n",
      "120/120 [==============================] - 0s 153us/sample - loss: 0.7500 - accuracy: 0.6667 - categorical_accuracy: 0.3417\n",
      "Epoch 17/50\n",
      "120/120 [==============================] - 0s 154us/sample - loss: 0.7435 - accuracy: 0.6833 - categorical_accuracy: 0.3333\n",
      "Epoch 18/50\n",
      "120/120 [==============================] - 0s 137us/sample - loss: 0.7224 - accuracy: 0.6833 - categorical_accuracy: 0.3333\n",
      "Epoch 19/50\n",
      "120/120 [==============================] - 0s 133us/sample - loss: 0.6832 - accuracy: 0.7083 - categorical_accuracy: 0.3750\n",
      "Epoch 20/50\n",
      "120/120 [==============================] - 0s 167us/sample - loss: 0.6847 - accuracy: 0.7250 - categorical_accuracy: 0.3250\n",
      "Epoch 21/50\n",
      "120/120 [==============================] - 0s 143us/sample - loss: 0.6678 - accuracy: 0.6917 - categorical_accuracy: 0.3333\n",
      "Epoch 22/50\n",
      "120/120 [==============================] - 0s 138us/sample - loss: 0.6486 - accuracy: 0.6917 - categorical_accuracy: 0.3417\n",
      "Epoch 23/50\n",
      "120/120 [==============================] - 0s 142us/sample - loss: 0.6028 - accuracy: 0.7333 - categorical_accuracy: 0.3750\n",
      "Epoch 24/50\n",
      "120/120 [==============================] - 0s 146us/sample - loss: 0.6377 - accuracy: 0.7500 - categorical_accuracy: 0.3500\n",
      "Epoch 25/50\n",
      "120/120 [==============================] - 0s 146us/sample - loss: 0.6773 - accuracy: 0.7250 - categorical_accuracy: 0.3167\n",
      "Epoch 26/50\n",
      "120/120 [==============================] - 0s 145us/sample - loss: 0.6299 - accuracy: 0.7917 - categorical_accuracy: 0.3167\n",
      "Epoch 27/50\n",
      "120/120 [==============================] - 0s 142us/sample - loss: 0.6684 - accuracy: 0.6917 - categorical_accuracy: 0.2833\n",
      "Epoch 28/50\n",
      "120/120 [==============================] - 0s 145us/sample - loss: 0.5978 - accuracy: 0.7667 - categorical_accuracy: 0.3250\n",
      "Epoch 29/50\n",
      "120/120 [==============================] - 0s 144us/sample - loss: 0.6197 - accuracy: 0.7667 - categorical_accuracy: 0.3250\n",
      "Epoch 30/50\n",
      "120/120 [==============================] - 0s 151us/sample - loss: 0.5758 - accuracy: 0.7500 - categorical_accuracy: 0.3417\n",
      "Epoch 31/50\n",
      "120/120 [==============================] - 0s 146us/sample - loss: 0.6152 - accuracy: 0.7417 - categorical_accuracy: 0.3750\n",
      "Epoch 32/50\n",
      "120/120 [==============================] - 0s 146us/sample - loss: 0.5529 - accuracy: 0.7583 - categorical_accuracy: 0.3333\n",
      "Epoch 33/50\n",
      "120/120 [==============================] - 0s 154us/sample - loss: 0.5685 - accuracy: 0.7750 - categorical_accuracy: 0.3333\n",
      "Epoch 34/50\n",
      "120/120 [==============================] - 0s 156us/sample - loss: 0.5830 - accuracy: 0.7917 - categorical_accuracy: 0.3083\n",
      "Epoch 35/50\n",
      "120/120 [==============================] - 0s 157us/sample - loss: 0.5383 - accuracy: 0.8167 - categorical_accuracy: 0.3417\n",
      "Epoch 36/50\n",
      "120/120 [==============================] - 0s 153us/sample - loss: 0.5867 - accuracy: 0.7833 - categorical_accuracy: 0.3333\n",
      "Epoch 37/50\n",
      "120/120 [==============================] - 0s 163us/sample - loss: 0.5525 - accuracy: 0.8083 - categorical_accuracy: 0.3583\n",
      "Epoch 38/50\n",
      "120/120 [==============================] - 0s 156us/sample - loss: 0.5535 - accuracy: 0.7833 - categorical_accuracy: 0.3500\n",
      "Epoch 39/50\n",
      "120/120 [==============================] - 0s 151us/sample - loss: 0.5246 - accuracy: 0.8000 - categorical_accuracy: 0.3583\n",
      "Epoch 40/50\n",
      "120/120 [==============================] - 0s 145us/sample - loss: 0.5436 - accuracy: 0.8000 - categorical_accuracy: 0.3250\n",
      "Epoch 41/50\n",
      "120/120 [==============================] - 0s 143us/sample - loss: 0.5270 - accuracy: 0.7917 - categorical_accuracy: 0.3500\n",
      "Epoch 42/50\n",
      "120/120 [==============================] - 0s 145us/sample - loss: 0.5428 - accuracy: 0.7750 - categorical_accuracy: 0.3500\n",
      "Epoch 43/50\n",
      "120/120 [==============================] - 0s 154us/sample - loss: 0.5349 - accuracy: 0.8333 - categorical_accuracy: 0.3333\n",
      "Epoch 44/50\n",
      "120/120 [==============================] - 0s 149us/sample - loss: 0.5333 - accuracy: 0.8417 - categorical_accuracy: 0.3333\n",
      "Epoch 45/50\n",
      "120/120 [==============================] - 0s 145us/sample - loss: 0.4886 - accuracy: 0.8917 - categorical_accuracy: 0.3167\n",
      "Epoch 46/50\n",
      "120/120 [==============================] - 0s 147us/sample - loss: 0.5303 - accuracy: 0.7833 - categorical_accuracy: 0.3167\n",
      "Epoch 47/50\n",
      "120/120 [==============================] - 0s 158us/sample - loss: 0.5005 - accuracy: 0.8167 - categorical_accuracy: 0.3333\n",
      "Epoch 48/50\n",
      "120/120 [==============================] - 0s 159us/sample - loss: 0.5383 - accuracy: 0.8000 - categorical_accuracy: 0.3333\n",
      "Epoch 49/50\n",
      "120/120 [==============================] - 0s 159us/sample - loss: 0.5387 - accuracy: 0.7917 - categorical_accuracy: 0.3083\n",
      "Epoch 50/50\n",
      "120/120 [==============================] - 0s 168us/sample - loss: 0.4617 - accuracy: 0.8583 - categorical_accuracy: 0.3583\n"
     ]
    },
    {
     "data": {
      "text/plain": [
       "<tensorflow.python.keras.callbacks.History at 0x129542c18>"
      ]
     },
     "execution_count": 12,
     "metadata": {},
     "output_type": "execute_result"
    }
   ],
   "source": [
    "model_time = \\\n",
    "strftime(\"%Y-%m-%d %H:%M:%S\", gmtime()).\\\n",
    "replace(' ', '_').\\\n",
    "replace('-', '').\\\n",
    "replace(':', '')\n",
    "\n",
    "tbCallBack = TensorBoard(log_dir='./Logs/%s'%model_time, \n",
    "                         histogram_freq=0, \n",
    "                         write_graph=True, \n",
    "                         write_images=True)\n",
    "\n",
    "model = tf.keras.models.Sequential([\n",
    "    tf.keras.layers.Flatten(),\n",
    "    tf.keras.layers.Dense(10, \n",
    "                          activation='relu'),\n",
    "    tf.keras.layers.Dropout(0.2),\n",
    "    tf.keras.layers.Dense(3, \n",
    "                          activation='softmax')\n",
    "])\n",
    "\n",
    "model.reset_states()\n",
    "\n",
    "model.compile(optimizer='adam',\n",
    "             loss='sparse_categorical_crossentropy',\n",
    "             metrics=['accuracy', 'categorical_accuracy'])\n",
    "\n",
    "model.fit(X_train,\n",
    "          y_train, \n",
    "          epochs=50, \n",
    "          batch_size=10,\n",
    "          callbacks=[tbCallBack])"
   ]
  },
  {
   "cell_type": "code",
   "execution_count": 13,
   "metadata": {
    "ExecuteTime": {
     "end_time": "2019-04-26T09:18:11.675826Z",
     "start_time": "2019-04-26T09:18:11.508894Z"
    }
   },
   "outputs": [
    {
     "name": "stdout",
     "output_type": "stream",
     "text": [
      "30/30 [==============================] - 0s 2ms/sample - loss: 0.4200 - accuracy: 0.9667 - categorical_accuracy: 0.3333\n",
      "\n",
      "Model Evaluation:\n",
      "====================\n",
      "loss: 0.42000529170036316\n",
      "accuracy:  0.96666664\n",
      "categorical_accuracy: 0.33333334\n"
     ]
    },
    {
     "data": {
      "text/plain": [
       "[None, None, None]"
      ]
     },
     "execution_count": 13,
     "metadata": {},
     "output_type": "execute_result"
    }
   ],
   "source": [
    "model_evaluate = model.evaluate(X_test, y_test)\n",
    "\n",
    "print('\\nModel Evaluation:')\n",
    "print('='*20)\n",
    "[print(metric, value) for metric, value in zip(['loss:','accuracy: ', 'categorical_accuracy:'], model_evaluate)]"
   ]
  },
  {
   "cell_type": "markdown",
   "metadata": {},
   "source": [
    "## Using Tensorboard"
   ]
  },
  {
   "cell_type": "markdown",
   "metadata": {},
   "source": [
    "Checking out the training performance and graph structure in tensorboard."
   ]
  },
  {
   "cell_type": "code",
   "execution_count": 14,
   "metadata": {
    "ExecuteTime": {
     "end_time": "2019-04-26T09:18:19.521456Z",
     "start_time": "2019-04-26T09:18:19.389247Z"
    }
   },
   "outputs": [
    {
     "name": "stdout",
     "output_type": "stream",
     "text": [
      "tensorboard --logdir=Logs/\r\n"
     ]
    }
   ],
   "source": [
    "cat start_tb.sh"
   ]
  },
  {
   "cell_type": "code",
   "execution_count": 15,
   "metadata": {
    "ExecuteTime": {
     "end_time": "2019-04-26T09:20:07.737858Z",
     "start_time": "2019-04-26T09:18:21.686525Z"
    },
    "scrolled": true
   },
   "outputs": [
    {
     "name": "stdout",
     "output_type": "stream",
     "text": [
      "TensorBoard 1.14.0a20190301 at http://Louwrenss-MacBook-Pro.local:6006 (Press CTRL+C to quit)\n",
      "I0426 11:18:49.424777 123145463783424 _internal.py:122] ::ffff:10.132.178.21 - - [26/Apr/2019 11:18:49] \"\u001b[37mGET / HTTP/1.1\u001b[0m\" 200 -\n",
      "I0426 11:18:49.821512 123145463783424 _internal.py:122] ::ffff:10.132.178.21 - - [26/Apr/2019 11:18:49] \"\u001b[37mGET /font-roboto/oMMgfZMQthOryQo9n22dcuvvDin1pK8aKteLpeZ5c0A.woff2 HTTP/1.1\u001b[0m\" 200 -\n",
      "I0426 11:18:50.428397 123145474293760 _internal.py:122] ::ffff:10.132.178.21 - - [26/Apr/2019 11:18:50] \"\u001b[37mGET /data/environment HTTP/1.1\u001b[0m\" 200 -\n",
      "I0426 11:18:50.431544 123145463783424 _internal.py:122] ::ffff:10.132.178.21 - - [26/Apr/2019 11:18:50] \"\u001b[37mGET /data/plugins_listing HTTP/1.1\u001b[0m\" 200 -\n",
      "I0426 11:18:50.433090 123145490059264 _internal.py:122] ::ffff:10.132.178.21 - - [26/Apr/2019 11:18:50] \"\u001b[37mGET /data/runs HTTP/1.1\u001b[0m\" 200 -\n",
      "I0426 11:18:50.435106 123145479548928 _internal.py:122] ::ffff:10.132.178.21 - - [26/Apr/2019 11:18:50] \"\u001b[37mGET /data/experiments HTTP/1.1\u001b[0m\" 200 -\n",
      "I0426 11:18:50.438051 123145495314432 _internal.py:122] ::ffff:10.132.178.21 - - [26/Apr/2019 11:18:50] \"\u001b[37mGET /font-roboto/RxZJdnzeo3R5zSexge8UUZBw1xU1rKptJj_0jans920.woff2 HTTP/1.1\u001b[0m\" 200 -\n",
      "I0426 11:18:50.451649 123145490059264 _internal.py:122] ::ffff:10.132.178.21 - - [26/Apr/2019 11:18:50] \"\u001b[37mGET /data/environment HTTP/1.1\u001b[0m\" 200 -\n",
      "I0426 11:18:50.451967 123145479548928 _internal.py:122] ::ffff:10.132.178.21 - - [26/Apr/2019 11:18:50] \"\u001b[37mGET /data/experiments HTTP/1.1\u001b[0m\" 200 -\n",
      "I0426 11:18:50.453651 123145474293760 _internal.py:122] ::ffff:10.132.178.21 - - [26/Apr/2019 11:18:50] \"\u001b[37mGET /data/runs HTTP/1.1\u001b[0m\" 200 -\n",
      "I0426 11:18:50.456702 123145495314432 _internal.py:122] ::ffff:10.132.178.21 - - [26/Apr/2019 11:18:50] \"\u001b[37mGET /data/plugins_listing HTTP/1.1\u001b[0m\" 200 -\n",
      "I0426 11:18:50.673417 123145495314432 _internal.py:122] ::ffff:10.132.178.21 - - [26/Apr/2019 11:18:50] \"\u001b[37mGET /data/plugin/scalars/tags HTTP/1.1\u001b[0m\" 200 -\n",
      "I0426 11:18:50.772308 123145495314432 _internal.py:122] ::ffff:10.132.178.21 - - [26/Apr/2019 11:18:50] \"\u001b[37mGET /data/plugin/scalars/tags HTTP/1.1\u001b[0m\" 200 -\n",
      "I0426 11:18:50.965281 123145490059264 _internal.py:122] ::ffff:10.132.178.21 - - [26/Apr/2019 11:18:50] \"\u001b[37mGET /data/plugin/scalars/scalars?tag=epoch_accuracy&run=20190425_102757%2Ftrain&experiment= HTTP/1.1\u001b[0m\" 200 -\n",
      "I0426 11:18:50.965859 123145479548928 _internal.py:122] ::ffff:10.132.178.21 - - [26/Apr/2019 11:18:50] \"\u001b[37mGET /data/plugin/scalars/scalars?tag=epoch_accuracy&run=20190426_091754%2Ftrain&experiment= HTTP/1.1\u001b[0m\" 200 -\n",
      "I0426 11:18:50.966876 123145463783424 _internal.py:122] ::ffff:10.132.178.21 - - [26/Apr/2019 11:18:50] \"\u001b[37mGET /data/plugin/scalars/scalars?tag=epoch_categorical_accuracy&run=20190426_091754%2Ftrain&experiment= HTTP/1.1\u001b[0m\" 200 -\n",
      "I0426 11:18:50.968564 123145474293760 _internal.py:122] ::ffff:10.132.178.21 - - [26/Apr/2019 11:18:50] \"\u001b[37mGET /data/plugin/scalars/scalars?tag=epoch_accuracy&run=20190425_121728%2Ftrain&experiment= HTTP/1.1\u001b[0m\" 200 -\n",
      "I0426 11:18:50.980251 123145469038592 _internal.py:122] ::ffff:10.132.178.21 - - [26/Apr/2019 11:18:50] \"\u001b[37mGET /data/plugin/scalars/scalars?tag=epoch_categorical_accuracy&run=20190425_102754%2Ftrain&experiment= HTTP/1.1\u001b[0m\" 200 -\n",
      "I0426 11:18:50.980812 123145495314432 _internal.py:122] ::ffff:10.132.178.21 - - [26/Apr/2019 11:18:50] \"\u001b[37mGET /data/plugin/scalars/scalars?tag=epoch_accuracy&run=20190425_102754%2Ftrain&experiment= HTTP/1.1\u001b[0m\" 200 -\n",
      "I0426 11:18:50.981650 123145474293760 _internal.py:122] ::ffff:10.132.178.21 - - [26/Apr/2019 11:18:50] \"\u001b[37mGET /data/plugin/scalars/scalars?tag=epoch_categorical_accuracy&run=20190425_121728%2Ftrain&experiment= HTTP/1.1\u001b[0m\" 200 -\n",
      "I0426 11:18:50.982181 123145463783424 _internal.py:122] ::ffff:10.132.178.21 - - [26/Apr/2019 11:18:50] \"\u001b[37mGET /data/plugin/scalars/scalars?tag=epoch_categorical_accuracy&run=20190425_102757%2Ftrain&experiment= HTTP/1.1\u001b[0m\" 200 -\n",
      "I0426 11:18:57.890995 123145495314432 _internal.py:122] ::ffff:10.132.178.21 - - [26/Apr/2019 11:18:57] \"\u001b[37mGET /font-roboto/d-6IYplOFocCacKzxwXSOJBw1xU1rKptJj_0jans920.woff2 HTTP/1.1\u001b[0m\" 200 -\n",
      "I0426 11:18:57.999754 123145463783424 _internal.py:122] ::ffff:10.132.178.21 - - [26/Apr/2019 11:18:57] \"\u001b[37mGET /data/plugins_listing HTTP/1.1\u001b[0m\" 200 -\n",
      "I0426 11:18:58.002170 123145495314432 _internal.py:122] ::ffff:10.132.178.21 - - [26/Apr/2019 11:18:58] \"\u001b[37mGET /data/plugin/graphs/info HTTP/1.1\u001b[0m\" 200 -\n",
      "I0426 11:18:58.220849 123145495314432 _internal.py:122] ::ffff:10.132.178.21 - - [26/Apr/2019 11:18:58] \"\u001b[37mGET /data/plugin/graphs/graph?conceptual=false&run=20190425_102754%2Ftrain HTTP/1.1\u001b[0m\" 200 -\n",
      "I0426 11:19:00.893780 123145495314432 _internal.py:122] ::ffff:10.132.178.21 - - [26/Apr/2019 11:19:00] \"\u001b[37mGET /data/plugins_listing HTTP/1.1\u001b[0m\" 200 -\n",
      "I0426 11:19:05.683682 123145463783424 _internal.py:122] ::ffff:10.132.178.21 - - [26/Apr/2019 11:19:05] \"\u001b[37mGET /data/plugin/graphs/graph?conceptual=false&run=20190425_102757%2Ftrain HTTP/1.1\u001b[0m\" 200 -\n",
      "I0426 11:19:08.194152 123145495314432 _internal.py:122] ::ffff:10.132.178.21 - - [26/Apr/2019 11:19:08] \"\u001b[37mGET /data/plugins_listing HTTP/1.1\u001b[0m\" 200 -\n",
      "I0426 11:19:50.682569 123145490059264 _internal.py:122] ::ffff:10.132.178.21 - - [26/Apr/2019 11:19:50] \"\u001b[37mGET /data/environment HTTP/1.1\u001b[0m\" 200 -\n",
      "I0426 11:19:50.683408 123145469038592 _internal.py:122] ::ffff:10.132.178.21 - - [26/Apr/2019 11:19:50] \"\u001b[37mGET /data/runs HTTP/1.1\u001b[0m\" 200 -\n",
      "I0426 11:19:50.684300 123145479548928 _internal.py:122] ::ffff:10.132.178.21 - - [26/Apr/2019 11:19:50] \"\u001b[37mGET /data/experiments HTTP/1.1\u001b[0m\" 200 -\n",
      "I0426 11:19:50.689156 123145495314432 _internal.py:122] ::ffff:10.132.178.21 - - [26/Apr/2019 11:19:50] \"\u001b[37mGET /data/plugins_listing HTTP/1.1\u001b[0m\" 200 -\n",
      "I0426 11:19:50.706909 123145495314432 _internal.py:122] ::ffff:10.132.178.21 - - [26/Apr/2019 11:19:50] \"\u001b[37mGET /data/plugin/scalars/tags HTTP/1.1\u001b[0m\" 200 -\n",
      "I0426 11:19:50.735460 123145479548928 _internal.py:122] ::ffff:10.132.178.21 - - [26/Apr/2019 11:19:50] \"\u001b[37mGET /data/plugin/scalars/scalars?tag=epoch_categorical_accuracy&run=20190425_102754%2Ftrain&experiment= HTTP/1.1\u001b[0m\" 200 -\n",
      "I0426 11:19:50.735987 123145463783424 _internal.py:122] ::ffff:10.132.178.21 - - [26/Apr/2019 11:19:50] \"\u001b[37mGET /data/plugin/scalars/scalars?tag=epoch_categorical_accuracy&run=20190425_121728%2Ftrain&experiment= HTTP/1.1\u001b[0m\" 200 -\n",
      "I0426 11:19:50.741503 123145469038592 _internal.py:122] ::ffff:10.132.178.21 - - [26/Apr/2019 11:19:50] \"\u001b[37mGET /data/plugin/scalars/scalars?tag=epoch_accuracy&run=20190425_121728%2Ftrain&experiment= HTTP/1.1\u001b[0m\" 200 -\n",
      "I0426 11:19:50.742145 123145479548928 _internal.py:122] ::ffff:10.132.178.21 - - [26/Apr/2019 11:19:50] \"\u001b[37mGET /data/plugin/scalars/scalars?tag=epoch_accuracy&run=20190426_091754%2Ftrain&experiment= HTTP/1.1\u001b[0m\" 200 -\n",
      "I0426 11:19:50.746160 123145474293760 _internal.py:122] ::ffff:10.132.178.21 - - [26/Apr/2019 11:19:50] \"\u001b[37mGET /data/plugin/scalars/scalars?tag=epoch_categorical_accuracy&run=20190425_102757%2Ftrain&experiment= HTTP/1.1\u001b[0m\" 200 -\n",
      "I0426 11:19:50.746798 123145463783424 _internal.py:122] ::ffff:10.132.178.21 - - [26/Apr/2019 11:19:50] \"\u001b[37mGET /data/plugin/scalars/scalars?tag=epoch_categorical_accuracy&run=20190426_091754%2Ftrain&experiment= HTTP/1.1\u001b[0m\" 200 -\n",
      "I0426 11:19:50.748136 123145490059264 _internal.py:122] ::ffff:10.132.178.21 - - [26/Apr/2019 11:19:50] \"\u001b[37mGET /data/plugin/scalars/scalars?tag=epoch_accuracy&run=20190425_102757%2Ftrain&experiment= HTTP/1.1\u001b[0m\" 200 -\n",
      "I0426 11:19:50.748758 123145495314432 _internal.py:122] ::ffff:10.132.178.21 - - [26/Apr/2019 11:19:50] \"\u001b[37mGET /data/plugin/scalars/scalars?tag=epoch_accuracy&run=20190425_102754%2Ftrain&experiment= HTTP/1.1\u001b[0m\" 200 -\n",
      "^C\n"
     ]
    }
   ],
   "source": [
    "!bash start_tb.sh"
   ]
  },
  {
   "cell_type": "markdown",
   "metadata": {},
   "source": [
    "## Making Predictions"
   ]
  },
  {
   "cell_type": "code",
   "execution_count": 16,
   "metadata": {
    "ExecuteTime": {
     "end_time": "2019-04-26T09:20:12.980679Z",
     "start_time": "2019-04-26T09:20:12.975770Z"
    }
   },
   "outputs": [
    {
     "name": "stdout",
     "output_type": "stream",
     "text": [
      "Next we'll check how well how model is performing on our 30 test observations\n"
     ]
    }
   ],
   "source": [
    "print('Next we\\'ll check how well how model is performing on our %d test observations'%len(X_test))"
   ]
  },
  {
   "cell_type": "code",
   "execution_count": 18,
   "metadata": {
    "ExecuteTime": {
     "end_time": "2019-04-26T09:20:19.966090Z",
     "start_time": "2019-04-26T09:20:19.945882Z"
    },
    "scrolled": true
   },
   "outputs": [
    {
     "data": {
      "text/html": [
       "<div>\n",
       "<style scoped>\n",
       "    .dataframe tbody tr th:only-of-type {\n",
       "        vertical-align: middle;\n",
       "    }\n",
       "\n",
       "    .dataframe tbody tr th {\n",
       "        vertical-align: top;\n",
       "    }\n",
       "\n",
       "    .dataframe thead th {\n",
       "        text-align: right;\n",
       "    }\n",
       "</style>\n",
       "<table border=\"1\" class=\"dataframe\">\n",
       "  <thead>\n",
       "    <tr style=\"text-align: right;\">\n",
       "      <th></th>\n",
       "      <th>y_pred</th>\n",
       "      <th>y_test</th>\n",
       "      <th>correct</th>\n",
       "    </tr>\n",
       "  </thead>\n",
       "  <tbody>\n",
       "    <tr>\n",
       "      <th>0</th>\n",
       "      <td>0</td>\n",
       "      <td>0</td>\n",
       "      <td>True</td>\n",
       "    </tr>\n",
       "    <tr>\n",
       "      <th>1</th>\n",
       "      <td>2</td>\n",
       "      <td>2</td>\n",
       "      <td>True</td>\n",
       "    </tr>\n",
       "    <tr>\n",
       "      <th>2</th>\n",
       "      <td>1</td>\n",
       "      <td>1</td>\n",
       "      <td>True</td>\n",
       "    </tr>\n",
       "    <tr>\n",
       "      <th>3</th>\n",
       "      <td>1</td>\n",
       "      <td>1</td>\n",
       "      <td>True</td>\n",
       "    </tr>\n",
       "    <tr>\n",
       "      <th>4</th>\n",
       "      <td>0</td>\n",
       "      <td>0</td>\n",
       "      <td>True</td>\n",
       "    </tr>\n",
       "  </tbody>\n",
       "</table>\n",
       "</div>"
      ],
      "text/plain": [
       "   y_pred  y_test  correct\n",
       "0       0       0     True\n",
       "1       2       2     True\n",
       "2       1       1     True\n",
       "3       1       1     True\n",
       "4       0       0     True"
      ]
     },
     "execution_count": 18,
     "metadata": {},
     "output_type": "execute_result"
    }
   ],
   "source": [
    "y_pred_softmax = model.predict(X_test)\n",
    "y_pred = np.argmax(y_pred_softmax, axis=1)\n",
    "\n",
    "predictions = pd.DataFrame(dict(y_test=y_test,\n",
    "                                y_pred=y_pred))\n",
    "predictions.y_test = predictions.y_test.astype(int)\n",
    "predictions['correct'] = predictions.y_pred == predictions.y_test\n",
    "predictions.head()"
   ]
  },
  {
   "cell_type": "code",
   "execution_count": 19,
   "metadata": {
    "ExecuteTime": {
     "end_time": "2019-04-26T09:20:20.186899Z",
     "start_time": "2019-04-26T09:20:20.173646Z"
    }
   },
   "outputs": [
    {
     "data": {
      "text/plain": [
       "True     29\n",
       "False     1\n",
       "Name: correct, dtype: int64"
      ]
     },
     "execution_count": 19,
     "metadata": {},
     "output_type": "execute_result"
    }
   ],
   "source": [
    "predictions.correct.value_counts()"
   ]
  },
  {
   "cell_type": "markdown",
   "metadata": {},
   "source": [
    "## Summary "
   ]
  },
  {
   "cell_type": "markdown",
   "metadata": {},
   "source": [
    "So to not get too distracted by the garnish around the all of the core tf.keras code, here is the summary for building a model in tensorflow. It relates very closely to the syntax used in `sklearn` where all other ML models like Decision Trees, Random Forests, SVMs, Linear Regression etc. live.\n",
    "\n",
    "Also if you import just the components you need from `tensorflow.keras.models` and `tensorflow.keras.layers` (which you should always do) - then overhead syntax gets reduced in the model definition as well."
   ]
  },
  {
   "cell_type": "code",
   "execution_count": null,
   "metadata": {
    "ExecuteTime": {
     "end_time": "2019-04-26T08:51:44.256160Z",
     "start_time": "2019-04-26T08:51:44.234491Z"
    }
   },
   "outputs": [],
   "source": [
    "from tensorflow.keras.models import Sequential\n",
    "from tensorflow.keras.layers import Flatten, Dense, Dropout\n",
    "\n",
    "model = Sequential([\n",
    "    Flatten(),\n",
    "    Dense(10, activation='relu'),\n",
    "    Dropout(0.2),\n",
    "    Dense(3, activation='softmax')\n",
    "])\n",
    "\n",
    "model.compile(optimizer='adam',\n",
    "             loss='sparse_categorical_crossentropy',\n",
    "             metrics=['accuracy', 'categorical_accuracy'])\n",
    "\n",
    "model.fit(X_train,\n",
    "          y_train, \n",
    "          epochs=2, \n",
    "          batch_size=10)\n",
    "\n",
    "model.predict(X_test)"
   ]
  },
  {
   "cell_type": "markdown",
   "metadata": {},
   "source": [
    "# Going Forward"
   ]
  },
  {
   "cell_type": "markdown",
   "metadata": {},
   "source": [
    "## TF2 vs TF1+Keras\n"
   ]
  },
  {
   "cell_type": "markdown",
   "metadata": {},
   "source": [
    "So, we've looked a lot at the keras part of TF 2, but the advantages of using tf.keras in TF 2 extends much further compared to just using keras with a TF 1 backend.\n",
    "\n",
    "1. You get comfortable with tensorflow, instead of a wrapper around it, which in and of itself is a great barrier to to push through \n",
    "2. Any bleeding edge research will have a git repo with their model in tensorflow, not in keras. So if you see a new model that you'd like to try, you can just download the repo and start running it, instead of having to wait ages for it to get into keras.\n",
    "3. You don't have to worry about maintaining 2 package dependencies, for example keras 2.3.4 doesn't work with tf 1.8. This makes deployment and maintainability a lot easier as well.\n",
    "4. Possible to gain all the TF optimisation tricks for your simply define keras model speeding up training as well as inference.\n",
    "5. TF2 can export your models as SavedModel class which is supported by\n",
    "    1. Yourself reuseing your model - this is much better than export a .h5 file\n",
    "    2. TF Serving - we are looking into this to start managing the versions of our models\n",
    "    3. TF Lite - for mobile devices, not so applicable to us, but a good skill set to have going forward in life\n",
    "6. Although TF2 support eager execution, if you have functions that you have written yourself you can make them \"graphable\" using the `@tf.fucntion` decorator. This is a bit more advanced, but I foresee us starting to play in this space within the next few months. "
   ]
  },
  {
   "cell_type": "markdown",
   "metadata": {},
   "source": [
    "## Using virtualenv to start learning TF2"
   ]
  },
  {
   "cell_type": "markdown",
   "metadata": {},
   "source": [
    "Start using virtual environments for all your projects - as we build more complex models and pipelines it is not a case of if we are going to run into package discrepancies, but when.\n",
    "\n",
    "\n",
    "**Show this Example**\n",
    "```\n",
    "virtualenv --p python3 tf2\n",
    "source ./tf2/bin/activate \n",
    "pip install --upgrade pip\n",
    "pip install tensorflow==2.0.0-alpha0\n",
    "```\n",
    "\n",
    "Start using the `dir()` function in python, for example"
   ]
  },
  {
   "cell_type": "code",
   "execution_count": 20,
   "metadata": {
    "ExecuteTime": {
     "end_time": "2019-04-26T09:25:50.575137Z",
     "start_time": "2019-04-26T09:25:50.566199Z"
    },
    "scrolled": true
   },
   "outputs": [
    {
     "data": {
      "text/plain": [
       "['BinaryCrossentropy',\n",
       " 'CategoricalCrossentropy',\n",
       " 'CategoricalHinge',\n",
       " 'CosineSimilarity',\n",
       " 'Hinge',\n",
       " 'Huber',\n",
       " 'KLD',\n",
       " 'KLDivergence',\n",
       " 'LogCosh',\n",
       " 'LogLoss',\n",
       " 'Loss',\n",
       " 'MAE',\n",
       " 'MAPE',\n",
       " 'MSE',\n",
       " 'MSLE',\n",
       " 'MeanAbsoluteError',\n",
       " 'MeanAbsolutePercentageError',\n",
       " 'MeanSquaredError',\n",
       " 'MeanSquaredLogarithmicError',\n",
       " 'Poisson',\n",
       " 'Reduction',\n",
       " 'SparseCategoricalCrossentropy',\n",
       " 'SquaredHinge',\n",
       " '__builtins__',\n",
       " '__cached__',\n",
       " '__doc__',\n",
       " '__file__',\n",
       " '__loader__',\n",
       " '__name__',\n",
       " '__package__',\n",
       " '__path__',\n",
       " '__spec__',\n",
       " 'binary_crossentropy',\n",
       " 'categorical_crossentropy',\n",
       " 'categorical_hinge',\n",
       " 'cosine_similarity',\n",
       " 'deserialize',\n",
       " 'get',\n",
       " 'hinge',\n",
       " 'kld',\n",
       " 'kullback_leibler_divergence',\n",
       " 'logcosh',\n",
       " 'mae',\n",
       " 'mape',\n",
       " 'mean_absolute_error',\n",
       " 'mean_absolute_percentage_error',\n",
       " 'mean_squared_error',\n",
       " 'mean_squared_logarithmic_error',\n",
       " 'mse',\n",
       " 'msle',\n",
       " 'poisson',\n",
       " 'serialize',\n",
       " 'sparse_categorical_crossentropy',\n",
       " 'squared_hinge']"
      ]
     },
     "execution_count": 20,
     "metadata": {},
     "output_type": "execute_result"
    }
   ],
   "source": [
    "dir(tf.keras.losses)"
   ]
  },
  {
   "cell_type": "code",
   "execution_count": 21,
   "metadata": {
    "ExecuteTime": {
     "end_time": "2019-04-26T09:26:28.118794Z",
     "start_time": "2019-04-26T09:26:28.112601Z"
    }
   },
   "outputs": [
    {
     "data": {
      "text/plain": [
       "['Adadelta',\n",
       " 'Adagrad',\n",
       " 'Adam',\n",
       " 'Adamax',\n",
       " 'Ftrl',\n",
       " 'Nadam',\n",
       " 'Optimizer',\n",
       " 'RMSprop',\n",
       " 'SGD',\n",
       " '__builtins__',\n",
       " '__cached__',\n",
       " '__doc__',\n",
       " '__file__',\n",
       " '__loader__',\n",
       " '__name__',\n",
       " '__package__',\n",
       " '__path__',\n",
       " '__spec__',\n",
       " 'deserialize',\n",
       " 'get',\n",
       " 'schedules',\n",
       " 'serialize']"
      ]
     },
     "execution_count": 21,
     "metadata": {},
     "output_type": "execute_result"
    }
   ],
   "source": [
    "dir(tf.keras.optimizers)"
   ]
  },
  {
   "cell_type": "code",
   "execution_count": 22,
   "metadata": {
    "ExecuteTime": {
     "end_time": "2019-04-26T09:26:33.240564Z",
     "start_time": "2019-04-26T09:26:33.232330Z"
    }
   },
   "outputs": [
    {
     "data": {
      "text/plain": [
       "['AbstractRNNCell',\n",
       " 'Activation',\n",
       " 'ActivityRegularization',\n",
       " 'Add',\n",
       " 'AlphaDropout',\n",
       " 'Average',\n",
       " 'AveragePooling1D',\n",
       " 'AveragePooling2D',\n",
       " 'AveragePooling3D',\n",
       " 'AvgPool1D',\n",
       " 'AvgPool2D',\n",
       " 'AvgPool3D',\n",
       " 'BatchNormalization',\n",
       " 'Bidirectional',\n",
       " 'Concatenate',\n",
       " 'Conv1D',\n",
       " 'Conv2D',\n",
       " 'Conv2DTranspose',\n",
       " 'Conv3D',\n",
       " 'Conv3DTranspose',\n",
       " 'ConvLSTM2D',\n",
       " 'Convolution1D',\n",
       " 'Convolution2D',\n",
       " 'Convolution2DTranspose',\n",
       " 'Convolution3D',\n",
       " 'Convolution3DTranspose',\n",
       " 'Cropping1D',\n",
       " 'Cropping2D',\n",
       " 'Cropping3D',\n",
       " 'Dense',\n",
       " 'DenseFeatures',\n",
       " 'DepthwiseConv2D',\n",
       " 'Dot',\n",
       " 'Dropout',\n",
       " 'ELU',\n",
       " 'Embedding',\n",
       " 'Flatten',\n",
       " 'GRU',\n",
       " 'GRUCell',\n",
       " 'GaussianDropout',\n",
       " 'GaussianNoise',\n",
       " 'GlobalAveragePooling1D',\n",
       " 'GlobalAveragePooling2D',\n",
       " 'GlobalAveragePooling3D',\n",
       " 'GlobalAvgPool1D',\n",
       " 'GlobalAvgPool2D',\n",
       " 'GlobalAvgPool3D',\n",
       " 'GlobalMaxPool1D',\n",
       " 'GlobalMaxPool2D',\n",
       " 'GlobalMaxPool3D',\n",
       " 'GlobalMaxPooling1D',\n",
       " 'GlobalMaxPooling2D',\n",
       " 'GlobalMaxPooling3D',\n",
       " 'Input',\n",
       " 'InputLayer',\n",
       " 'InputSpec',\n",
       " 'LSTM',\n",
       " 'LSTMCell',\n",
       " 'Lambda',\n",
       " 'Layer',\n",
       " 'LeakyReLU',\n",
       " 'LinearModel',\n",
       " 'LocallyConnected1D',\n",
       " 'LocallyConnected2D',\n",
       " 'Masking',\n",
       " 'MaxPool1D',\n",
       " 'MaxPool2D',\n",
       " 'MaxPool3D',\n",
       " 'MaxPooling1D',\n",
       " 'MaxPooling2D',\n",
       " 'MaxPooling3D',\n",
       " 'Maximum',\n",
       " 'Minimum',\n",
       " 'Multiply',\n",
       " 'PReLU',\n",
       " 'Permute',\n",
       " 'RNN',\n",
       " 'ReLU',\n",
       " 'RepeatVector',\n",
       " 'Reshape',\n",
       " 'SeparableConv1D',\n",
       " 'SeparableConv2D',\n",
       " 'SeparableConvolution1D',\n",
       " 'SeparableConvolution2D',\n",
       " 'SimpleRNN',\n",
       " 'SimpleRNNCell',\n",
       " 'Softmax',\n",
       " 'SpatialDropout1D',\n",
       " 'SpatialDropout2D',\n",
       " 'SpatialDropout3D',\n",
       " 'StackedRNNCells',\n",
       " 'Subtract',\n",
       " 'ThresholdedReLU',\n",
       " 'TimeDistributed',\n",
       " 'UpSampling1D',\n",
       " 'UpSampling2D',\n",
       " 'UpSampling3D',\n",
       " 'Wrapper',\n",
       " 'ZeroPadding1D',\n",
       " 'ZeroPadding2D',\n",
       " 'ZeroPadding3D',\n",
       " '__builtins__',\n",
       " '__cached__',\n",
       " '__doc__',\n",
       " '__file__',\n",
       " '__loader__',\n",
       " '__name__',\n",
       " '__package__',\n",
       " '__path__',\n",
       " '__spec__',\n",
       " 'add',\n",
       " 'average',\n",
       " 'concatenate',\n",
       " 'deserialize',\n",
       " 'dot',\n",
       " 'experimental',\n",
       " 'maximum',\n",
       " 'minimum',\n",
       " 'multiply',\n",
       " 'serialize',\n",
       " 'subtract']"
      ]
     },
     "execution_count": 22,
     "metadata": {},
     "output_type": "execute_result"
    }
   ],
   "source": [
    "dir(tf.keras.layers)"
   ]
  },
  {
   "cell_type": "markdown",
   "metadata": {},
   "source": [
    "## Final Thoughts"
   ]
  },
  {
   "cell_type": "markdown",
   "metadata": {},
   "source": [
    "Try and start using Python instead of R - especially for LSTM neural nets to do time series predictions which is very much applicable in our space. \n",
    "\n",
    "It is very unfortunate that UCT has cursed us with R. I understand the sentiment of not wanting to learn another language, but Python is really the future of ML and I'd encourage everyone to start using Python sooner rather than later. \n",
    "\n",
    "Not that you can't build a model in R, but putting that model in a productionised pipeline adds one more level of complexity, where Python is a one stop shop for everything.\n",
    "\n",
    "Think about it this way - learning Python will give you more ways to look at data in interesting ways which make you a better all round Data Scientist/Analysis/Employee/Enthusiast/Stewardess. "
   ]
  },
  {
   "cell_type": "code",
   "execution_count": 24,
   "metadata": {
    "ExecuteTime": {
     "end_time": "2019-04-26T09:30:10.406807Z",
     "start_time": "2019-04-26T09:30:10.400079Z"
    },
    "scrolled": true
   },
   "outputs": [
    {
     "data": {
      "text/plain": [
       "['__class__',\n",
       " '__copy__',\n",
       " '__deepcopy__',\n",
       " '__delattr__',\n",
       " '__dict__',\n",
       " '__dir__',\n",
       " '__doc__',\n",
       " '__eq__',\n",
       " '__format__',\n",
       " '__ge__',\n",
       " '__getattribute__',\n",
       " '__gt__',\n",
       " '__hash__',\n",
       " '__init__',\n",
       " '__le__',\n",
       " '__lt__',\n",
       " '__module__',\n",
       " '__ne__',\n",
       " '__new__',\n",
       " '__reduce__',\n",
       " '__reduce_ex__',\n",
       " '__repr__',\n",
       " '__setattr__',\n",
       " '__sizeof__',\n",
       " '__str__',\n",
       " '__subclasshook__',\n",
       " '__weakref__',\n",
       " '_tf_api_names',\n",
       " '_tf_api_names_v1',\n",
       " 'broadcast',\n",
       " 'colocate_vars_with',\n",
       " 'configure',\n",
       " 'experimental_make_numpy_iterator',\n",
       " 'experimental_run',\n",
       " 'extended',\n",
       " 'group',\n",
       " 'make_dataset_iterator',\n",
       " 'make_input_fn_iterator',\n",
       " 'num_replicas_in_sync',\n",
       " 'reduce',\n",
       " 'scope',\n",
       " 'unwrap',\n",
       " 'update_config_proto']"
      ]
     },
     "execution_count": 24,
     "metadata": {},
     "output_type": "execute_result"
    }
   ],
   "source": [
    "scope= tf.distribute.Strategy()"
   ]
  },
  {
   "cell_type": "code",
   "execution_count": null,
   "metadata": {},
   "outputs": [],
   "source": [
    "with scope():\n",
    "    "
   ]
  }
 ],
 "metadata": {
  "kernelspec": {
   "display_name": "Python 3",
   "language": "python",
   "name": "python3"
  },
  "language_info": {
   "codemirror_mode": {
    "name": "ipython",
    "version": 3
   },
   "file_extension": ".py",
   "mimetype": "text/x-python",
   "name": "python",
   "nbconvert_exporter": "python",
   "pygments_lexer": "ipython3",
   "version": "3.5.4"
  },
  "latex_envs": {
   "LaTeX_envs_menu_present": true,
   "autoclose": false,
   "autocomplete": true,
   "bibliofile": "biblio.bib",
   "cite_by": "apalike",
   "current_citInitial": 1,
   "eqLabelWithNumbers": true,
   "eqNumInitial": 1,
   "hotkeys": {
    "equation": "Ctrl-E",
    "itemize": "Ctrl-I"
   },
   "labels_anchors": false,
   "latex_user_defs": false,
   "report_style_numbering": false,
   "user_envs_cfg": false
  },
  "toc": {
   "nav_menu": {},
   "number_sections": false,
   "sideBar": true,
   "skip_h1_title": false,
   "title_cell": "Table of Contents",
   "title_sidebar": "Contents",
   "toc_cell": true,
   "toc_position": {
    "height": "calc(100% - 180px)",
    "left": "10px",
    "top": "150px",
    "width": "165px"
   },
   "toc_section_display": true,
   "toc_window_display": true
  },
  "varInspector": {
   "cols": {
    "lenName": 16,
    "lenType": 16,
    "lenVar": 40
   },
   "kernels_config": {
    "python": {
     "delete_cmd_postfix": "",
     "delete_cmd_prefix": "del ",
     "library": "var_list.py",
     "varRefreshCmd": "print(var_dic_list())"
    },
    "r": {
     "delete_cmd_postfix": ") ",
     "delete_cmd_prefix": "rm(",
     "library": "var_list.r",
     "varRefreshCmd": "cat(var_dic_list()) "
    }
   },
   "types_to_exclude": [
    "module",
    "function",
    "builtin_function_or_method",
    "instance",
    "_Feature"
   ],
   "window_display": false
  }
 },
 "nbformat": 4,
 "nbformat_minor": 2
}
